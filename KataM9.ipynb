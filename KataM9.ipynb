{
 "cells": [
  {
   "cell_type": "markdown",
   "metadata": {},
   "source": [
    "# Ejercicio 9"
   ]
  },
  {
   "cell_type": "code",
   "execution_count": 5,
   "metadata": {},
   "outputs": [],
   "source": [
    "def combustible(tanque1,tanque2,tanque3):\n",
    "    promedio=(tanque1+tanque2+tanque3)/3\n",
    "    return f\"\"\"Reporte de combustible:\n",
    "    Promedio lts: {promedio}%\n",
    "    Tanque principal: {tanque1}%\n",
    "    Tanque secundario: {tanque2}%\n",
    "    Reserva: {tanque3}% \n",
    "    \"\"\""
   ]
  },
  {
   "cell_type": "code",
   "execution_count": 8,
   "metadata": {},
   "outputs": [
    {
     "name": "stdout",
     "output_type": "stream",
     "text": [
      "Reporte de combustible:\n",
      "\n",
      "    Promedio lts: 51.333333333333336 \n",
      "\n",
      "    Tanque principal: 45\n",
      "\n",
      "    Tanque secundario: 50\n",
      "\n",
      "    Reserva: 59\n",
      "\n",
      "    \n"
     ]
    }
   ],
   "source": [
    "print(combustible(45,50,59))"
   ]
  },
  {
   "cell_type": "code",
   "execution_count": 14,
   "metadata": {},
   "outputs": [
    {
     "data": {
      "text/plain": [
       "82.0"
      ]
     },
     "execution_count": 14,
     "metadata": {},
     "output_type": "execute_result"
    }
   ],
   "source": [
    "def mean(valores):\n",
    "    total = sum(valores)\n",
    "    elementos = len(valores)\n",
    "    return total / elementos\n",
    "\n",
    "mean([80, 85, 81]) "
   ]
  },
  {
   "cell_type": "code",
   "execution_count": 20,
   "metadata": {},
   "outputs": [],
   "source": [
    "def combustible(tanque1,tanque2,tanque3):\n",
    "    promedio=(tanque1+tanque2+tanque3)/3\n",
    "    return f\"\"\"Reporte de combustible:\n",
    "    Promedio lts: {mean([tanque1,tanque2,tanque3])}%\n",
    "    Tanque principal: {tanque1}%\n",
    "    Tanque secundario: {tanque2}%\n",
    "    Reserva: {tanque3}% \n",
    "    \"\"\""
   ]
  },
  {
   "cell_type": "code",
   "execution_count": 21,
   "metadata": {},
   "outputs": [
    {
     "name": "stdout",
     "output_type": "stream",
     "text": [
      "Reporte de combustible:\n",
      "    Promedio lts: 82.0\n",
      "    Tanque principal: 81\n",
      "    Tanque secundario: 82\n",
      "    Reserva: 83\n",
      "    \n"
     ]
    }
   ],
   "source": [
    "print(combustible(81,82,83))"
   ]
  },
  {
   "cell_type": "code",
   "execution_count": 22,
   "metadata": {},
   "outputs": [
    {
     "name": "stdout",
     "output_type": "stream",
     "text": [
      "\n",
      "    Mision a Moon\n",
      "    Tiempo de viaje: 65 minutos\n",
      "    Total combustible: 500000 litros\n",
      "    \n"
     ]
    }
   ],
   "source": [
    "\n",
    "def reporte_mision(prelanzamiento, tiempo_vuelo, destino, tanque1, tanque2):\n",
    "    return f\"\"\"\n",
    "    Mision a {destino}\n",
    "    Tiempo de viaje: {prelanzamiento + tiempo_vuelo} minutos\n",
    "    Total combustible: {tanque1 + tanque2} litros\n",
    "    \"\"\"\n",
    "\n",
    "print(reporte_mision(14, 51, \"Moon\", 200000, 300000))"
   ]
  },
  {
   "cell_type": "code",
   "execution_count": null,
   "metadata": {},
   "outputs": [],
   "source": []
  }
 ],
 "metadata": {
  "interpreter": {
   "hash": "b0fa6594d8f4cbf19f97940f81e996739fb7646882a419484c72d19e05852a7e"
  },
  "kernelspec": {
   "display_name": "Python 3.9.5 64-bit",
   "language": "python",
   "name": "python3"
  },
  "language_info": {
   "codemirror_mode": {
    "name": "ipython",
    "version": 3
   },
   "file_extension": ".py",
   "mimetype": "text/x-python",
   "name": "python",
   "nbconvert_exporter": "python",
   "pygments_lexer": "ipython3",
   "version": "3.9.5"
  },
  "orig_nbformat": 4
 },
 "nbformat": 4,
 "nbformat_minor": 2
}
