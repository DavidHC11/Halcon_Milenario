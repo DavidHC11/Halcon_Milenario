{
 "cells": [
  {
   "cell_type": "markdown",
   "metadata": {},
   "source": [
    "# Asteroide"
   ]
  },
  {
   "cell_type": "code",
   "execution_count": null,
   "metadata": {},
   "outputs": [],
   "source": [
    "# Añadir el código necesario para crear una variable que guarde la velocidad del asteroide.\n",
    "velocidad=int(input('Ingresa la velocidad del asteroide en km/s: '))\n",
    "# Escribe una expresión de prueba para calcular si necesita una advertencia.\n",
    "# Agregue las instrucciones que se ejecutarán si la expresión de prueba es true o false.\n",
    "if velocidad>25:\n",
    "    print(\"Peligro se acerca un asteroide\")\n",
    "else:\n",
    "    print(\"Podemos estar tranquilos, pero alerta\")\n"
   ]
  },
  {
   "cell_type": "code",
   "execution_count": null,
   "metadata": {},
   "outputs": [],
   "source": [
    "# Agrega el código para crear una variable para un asteroide que viaja a 19 km/s\n",
    "# Escribe varias expresiones de prueba para determinar si puedes ver el rayo de luz desde la tierra\n",
    "# Agrega las instrucciones que se ejecutarán si las expresiones de prueba son True o False\n",
    "velocidad=int(input('Ingresa la velocidad del asteroide en km/s: '))\n",
    "estela=True\n",
    "if velocidad>25:\n",
    "    print(\"Peligro se acerca un asteroide\")\n",
    "    if estela:\n",
    "        print('Rápido mira en el cielo')\n",
    "    else:\n",
    "        print('Morimos :(')\n",
    "else:\n",
    "    print(\"Podemos estar tranquilos, pero alerta\")\n"
   ]
  },
  {
   "cell_type": "code",
   "execution_count": null,
   "metadata": {},
   "outputs": [],
   "source": [
    "# Agrega el código para crear nuevas variables para la velocidad y el tamaño del asteroide\n",
    "# Para probar el código, prueba con varias velocidades y tamaños\n",
    "# Escribe varias expresiones de prueba o combinaciones de expresiones de prueba para determinar qué mensaje se debe enviar a Tierra.\n",
    "\n",
    "velocidad = int(input('Ingresa la velocidad del asteroide en km/s: '))\n",
    "tamanio = int(input('Ingresa el tamaño del asteroide: '))\n",
    "if velocidad > 25 and tamanio > 25:\n",
    "    print('Peligro se acerca un asteroide giganteeeeeeee')\n",
    "elif velocidad >= 20:\n",
    "    print('Rápido mira en el cielo')\n",
    "elif tamano < 25:\n",
    "    print('estamos a salvo')\n",
    "else:\n",
    "    print('estamos a salvo')"
   ]
  },
  {
   "cell_type": "code",
   "execution_count": null,
   "metadata": {},
   "outputs": [],
   "source": []
  }
 ],
 "metadata": {
  "language_info": {
   "name": "python"
  },
  "orig_nbformat": 4
 },
 "nbformat": 4,
 "nbformat_minor": 2
}
